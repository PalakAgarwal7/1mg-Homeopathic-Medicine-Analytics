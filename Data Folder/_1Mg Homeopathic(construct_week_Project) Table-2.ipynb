{
 "cells": [
  {
   "cell_type": "markdown",
   "id": "e2c2338e",
   "metadata": {},
   "source": [
    "# Fetch the data into a website(1Mg Homeopathic) by using Selenium and BeautifulSoup\n",
    "  \n"
   ]
  },
  {
   "cell_type": "markdown",
   "id": "f1027b1f",
   "metadata": {},
   "source": [
    "## Table - 2 : medicine_details\n",
    "`name` - Name of the medicine\n",
    "\n",
    "`brand_name`  - Brand name\n",
    "\n",
    "`key_benefits` - Key Benefits area (Hair, eye, joint, skin)\n",
    "\n",
    "`key_ingredients` - Ingredient of medicine\n",
    "\n",
    "`rating` - user rating of the medicine\n",
    "\n",
    "`number_of_rating`  - Number of people rated that product"
   ]
  },
  {
   "cell_type": "code",
   "execution_count": null,
   "id": "cd5233a5",
   "metadata": {},
   "outputs": [],
   "source": []
  },
  {
   "cell_type": "code",
   "execution_count": null,
   "id": "f4e151bb",
   "metadata": {},
   "outputs": [],
   "source": []
  },
  {
   "cell_type": "code",
   "execution_count": null,
   "id": "66983ba8",
   "metadata": {},
   "outputs": [],
   "source": []
  },
  {
   "cell_type": "code",
   "execution_count": null,
   "id": "3780bcc3",
   "metadata": {},
   "outputs": [],
   "source": []
  },
  {
   "cell_type": "code",
   "execution_count": null,
   "id": "747860c1",
   "metadata": {},
   "outputs": [],
   "source": []
  },
  {
   "cell_type": "code",
   "execution_count": null,
   "id": "d2a610b5",
   "metadata": {},
   "outputs": [],
   "source": []
  },
  {
   "cell_type": "code",
   "execution_count": null,
   "id": "979c6eb3",
   "metadata": {},
   "outputs": [],
   "source": []
  },
  {
   "cell_type": "code",
   "execution_count": null,
   "id": "c71530be",
   "metadata": {},
   "outputs": [],
   "source": []
  },
  {
   "cell_type": "code",
   "execution_count": null,
   "id": "5f142c49",
   "metadata": {},
   "outputs": [],
   "source": []
  },
  {
   "cell_type": "code",
   "execution_count": null,
   "id": "149974d3",
   "metadata": {},
   "outputs": [],
   "source": []
  },
  {
   "cell_type": "code",
   "execution_count": null,
   "id": "c869b0fc",
   "metadata": {},
   "outputs": [],
   "source": []
  },
  {
   "cell_type": "code",
   "execution_count": 18,
   "id": "c058c1a8",
   "metadata": {},
   "outputs": [
    {
     "name": "stdout",
     "output_type": "stream",
     "text": [
      "\n"
     ]
    }
   ],
   "source": []
  },
  {
   "cell_type": "code",
   "execution_count": 26,
   "id": "e403b394",
   "metadata": {},
   "outputs": [
    {
     "name": "stdout",
     "output_type": "stream",
     "text": [
      "Popup close button not found or not clickable. Continuing without closing the popup.\n",
      "Popup close button not found or not clickable. Continuing without closing the popup.\n",
      "Popup close button not found or not clickable. Continuing without closing the popup.\n"
     ]
    }
   ],
   "source": [
    "from selenium import webdriver\n",
    "from selenium.webdriver.common.by import By\n",
    "from selenium.webdriver.support.ui import WebDriverWait\n",
    "from selenium.webdriver.support import expected_conditions as EC\n",
    "from selenium.common.exceptions import TimeoutException, NoSuchElementException\n",
    "from bs4 import BeautifulSoup\n",
    "import csv\n",
    "import time\n",
    "\n",
    "# Function to fetch additional information from a given URL\n",
    "def fetch_additional_info(url):\n",
    "    # Set up the WebDriver\n",
    "    driver = webdriver.Chrome()\n",
    "    driver.get(url)\n",
    "\n",
    "    try:\n",
    "        # Wait for the close button to be clickable (if it's present)\n",
    "        close_popup_button = WebDriverWait(driver, 10).until(\n",
    "            EC.element_to_be_clickable((By.CLASS_NAME, 'UpdateCityModal__cancel-btn___2jWwS'))\n",
    "        )\n",
    "        close_popup_button.click()\n",
    "        time.sleep(3)  # Allow dynamic content to load\n",
    "    except (TimeoutException, NoSuchElementException):\n",
    "        # Handle the case when the close button is not present or not clickable\n",
    "        print(\"Popup close button not found or not clickable. Continuing without closing the popup.\")\n",
    "\n",
    "    # Extract information using BeautifulSoup\n",
    "    soup = BeautifulSoup(driver.page_source, \"html.parser\")\n",
    "\n",
    "    # Extracting the Name, Brand Name, Rating, Number of Rating, Key Benefits, Key Ingredients\n",
    "    name_of_medicine_element = soup.find('h1', {'class': 'ProductTitle__product-title___3QMYH'})\n",
    "    name_of_medicine = name_of_medicine_element.text.strip() if name_of_medicine_element else 'NA'\n",
    "\n",
    "    brand_name_element = soup.find('div', {'class': 'ProductTitle__marketer___7Wsj9'})\n",
    "    brand_name = brand_name_element.text.strip() if brand_name_element else 'NA'\n",
    "\n",
    "    rating_element = soup.find('div', {'class': 'RatingDisplay__ratings-container___3oUuo'})\n",
    "    rating = rating_element.text.strip() if rating_element else 'NA'\n",
    "\n",
    "    num_rating_element = soup.find('span', {'class': 'RatingDisplay__ratings-header___ZNj5b'})\n",
    "    num_rating = num_rating_element.text.strip() if num_rating_element else 'NA'\n",
    "\n",
    "    key_benefits_element = soup.find('div', {'class': 'ProductHighlights__product-highlights___2jAF5'})\n",
    "    key_benefits_items = key_benefits_element.find_all('li') if key_benefits_element else []\n",
    "    key_benefits_data = [item.text.strip() for item in key_benefits_items] if key_benefits_items else 'NA'\n",
    "    key_benefits = '\\n'.join(f'{index + 1}. {element}' for index, element in enumerate(key_benefits_data, start=0)) if key_benefits_data != 'NA' else 'NA'\n",
    "\n",
    "    key_ingredients = extract_key_ingredients(soup)\n",
    "\n",
    "    # Close the WebDriver\n",
    "    driver.quit()\n",
    "\n",
    "    return name_of_medicine, brand_name, rating, num_rating, key_benefits, key_ingredients\n",
    "\n",
    "def extract_key_ingredients(soup):\n",
    "    key_ingredients_start_tag = soup.find(['strong', 'b'], text=['Key Ingredients:', 'Key Ingredients'])\n",
    "    if key_ingredients_start_tag:\n",
    "        key_ingredients = []\n",
    "        next_tag = key_ingredients_start_tag.find_next(['br', 'strong', 'b', 'ul'])\n",
    "        while next_tag and next_tag.name != 'strong' and next_tag.name != 'b':\n",
    "            if next_tag.name == 'br':\n",
    "                key_ingredients.append(next_tag.find_next(text=True).strip())\n",
    "            elif next_tag.name == 'ul':\n",
    "                key_ingredients.extend([li.get_text(strip=True) for li in next_tag.find_all('li')])\n",
    "            next_tag = next_tag.find_next(['br', 'strong', 'b', 'ul'])\n",
    "        return key_ingredients\n",
    "    return []\n",
    "\n",
    "# Specify the path to your CSV files\n",
    "csv_file_path_input = 'medicine_name_data_1200.csv'\n",
    "csv_file_path_output = 'medicine_details.csv'\n",
    "\n",
    "# Create a list to store the fetched information\n",
    "all_additional_info = []\n",
    "\n",
    "# Read data from the CSV file and extract '1Mg_URL'\n",
    "with open(csv_file_path_input, 'r', encoding='utf-8') as csvfile:\n",
    "    csv_reader = csv.DictReader(csvfile)\n",
    "    for row in csv_reader:\n",
    "        url = row['1Mg_URL']\n",
    "        name, brand, rating, num_rating, key_benefits, key_ingredients = fetch_additional_info(url)\n",
    "        all_additional_info.append({\n",
    "            'Name': name,\n",
    "            'Brand_Name': brand,\n",
    "            'Rating': rating,\n",
    "            'Number_of_rating': num_rating,\n",
    "            'Key Benefits': key_benefits,\n",
    "            'Key Ingredients': key_ingredients\n",
    "        })\n",
    "\n",
    "# Create a new CSV file and write all the data\n",
    "with open(csv_file_path_output, 'w', newline='', encoding='utf-8') as csvfile:\n",
    "    # Create a CSV writer\n",
    "    csv_writer = csv.writer(csvfile)\n",
    "\n",
    "    # Write header row\n",
    "    header = ['Name', 'Brand_Name', 'Rating', 'Number_of_rating', 'Key Benefits', 'Key Ingredients']\n",
    "    csv_writer.writerow(header)\n",
    "\n",
    "    # Write all the data to the CSV file\n",
    "    for info in all_additional_info:\n",
    "        csv_writer.writerow([\n",
    "            info['Name'],\n",
    "            info['Brand_Name'],\n",
    "            info['Rating'],\n",
    "            info['Number_of_rating'],\n",
    "            info['Key Benefits'],\n",
    "            info['Key Ingredients']\n",
    "        ])\n"
   ]
  }
 ],
 "metadata": {
  "kernelspec": {
   "display_name": "Python 3 (ipykernel)",
   "language": "python",
   "name": "python3"
  },
  "language_info": {
   "codemirror_mode": {
    "name": "ipython",
    "version": 3
   },
   "file_extension": ".py",
   "mimetype": "text/x-python",
   "name": "python",
   "nbconvert_exporter": "python",
   "pygments_lexer": "ipython3",
   "version": "3.10.9"
  }
 },
 "nbformat": 4,
 "nbformat_minor": 5
}
